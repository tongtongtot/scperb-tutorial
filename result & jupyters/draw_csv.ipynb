{
 "cells": [
  {
   "cell_type": "code",
   "execution_count": 1,
   "id": "b16dcb8d",
   "metadata": {},
   "outputs": [],
   "source": [
    "import os \n",
    "import numpy as np\n",
    "import pandas as pd\n",
    "import scanpy as sc\n",
    "import matplotlib\n",
    "import matplotlib.style\n",
    "import matplotlib.pyplot as plt\n",
    "import seaborn as sns\n",
    "from scipy import sparse\n",
    "import anndata\n",
    "from scipy import stats"
   ]
  },
  {
   "cell_type": "code",
   "execution_count": 2,
   "id": "48e1eea7",
   "metadata": {},
   "outputs": [],
   "source": [
    "matplotlib.rcParams['pdf.fonttype'] = 42"
   ]
  },
  {
   "cell_type": "code",
   "execution_count": 3,
   "id": "e97ae70b",
   "metadata": {},
   "outputs": [],
   "source": [
    "def adata2numpy(adata):\n",
    "    if sparse.issparse(adata.X):\n",
    "        return adata.X.A\n",
    "    else:\n",
    "        return adata.X"
   ]
  },
  {
   "cell_type": "code",
   "execution_count": 4,
   "id": "f3e44d7d",
   "metadata": {},
   "outputs": [],
   "source": [
    "def autolabel(rects):\n",
    "    \"\"\"\n",
    "    Attach a text label above each bar displaying its height\n",
    "    \"\"\"\n",
    "    for rect in rects:\n",
    "        height = rect.get_height()\n",
    "        plt.text(rect.get_x() + rect.get_width() / 2., 1.01 * height,\n",
    "                '%.2f' % float(height),\n",
    "                ha='center', va='bottom', fontsize=8)"
   ]
  },
  {
   "cell_type": "code",
   "execution_count": 5,
   "id": "f002e68b",
   "metadata": {},
   "outputs": [],
   "source": [
    "def calc_R2(adata, cell_type_key, cell_type, n_genes=6998, conditions=None):\n",
    "    if n_genes != adata.shape[1]:\n",
    "        adata_cell = adata[adata.obs[cell_type_key] == cell_type]\n",
    "        print(adata_cell.obs[\"condition\"].unique().tolist())\n",
    "        sc.tl.rank_genes_groups(adata_cell, groupby=\"condition\", n_genes=n_genes, method=\"wilcoxon\")\n",
    "        diff_genes = adata_cell.uns[\"rank_genes_groups\"][\"names\"][conditions[\"real_stim\"]].tolist()[:n_genes//2] \\\n",
    "                   + adata_cell.uns[\"rank_genes_groups\"][\"names\"][conditions[\"ctrl\"]].tolist()[:n_genes//2]\n",
    "        adata = adata[:, diff_genes]\n",
    "    r_values = np.zeros((1, 100))\n",
    "    real_stim = adata[adata.obs[\"condition\"] == conditions[\"real_stim\"]]\n",
    "    pred_stim = adata[adata.obs[\"condition\"] == conditions[\"pred_stim\"]]\n",
    "#     print(pred_stim)\n",
    "#     print(real_stim)\n",
    "#     for i in range(100):\n",
    "#         pred_stim_idx = np.random.choice(range(0, pred_stim.shape[0]), int(0.8 * pred_stim.shape[0]))\n",
    "#         real_stim_idx = np.random.choice(range(0, real_stim.shape[0]), int(0.8 * real_stim.shape[0]))\n",
    "#         pred_stim_data = adata2numpy(pred_stim)\n",
    "#         real_stim_data = adata2numpy(real_stim)\n",
    "#         x = np.average(pred_stim_data[pred_stim_idx], axis=0)\n",
    "#         y = np.average(real_stim_data[real_stim_idx], axis=0)\n",
    "#         m, b, r_value, p_value, std_err = stats.linregress(x, y)\n",
    "#         r_values[0, i] = r_value ** 2\n",
    "    pred_stim_data = adata2numpy(pred_stim)\n",
    "    real_stim_data = adata2numpy(real_stim)\n",
    "    x = np.asarray(np.mean(pred_stim_data, axis=0)).ravel()\n",
    "    y = np.asarray(np.mean(real_stim_data, axis=0)).ravel()\n",
    "    m, b, r_value, p_value, std_err = stats.linregress(x,y)\n",
    "    r_values = r_value ** 2\n",
    "    return r_values.mean(), r_values.std()"
   ]
  },
  {
   "cell_type": "code",
   "execution_count": 6,
   "id": "6393c458",
   "metadata": {},
   "outputs": [],
   "source": [
    "def calc_R2_mean_var(adata, data_name, cell_types, n_genes):\n",
    "    r2_means, r2_vars = [], []\n",
    "    for cell_type in cell_types:\n",
    "        conditions = {\"ctrl\": f\"{cell_type}_ctrl\" ,\"real_stim\": f\"{cell_type}_real\", \"pred_stim\": f\"{cell_type}_pred\"}\n",
    "        r2_mean, r2_var = calc_R2(adata, data_name, cell_type, n_genes=n_genes, conditions=conditions)\n",
    "        r2_means.append(r2_mean)\n",
    "        r2_vars.append(r2_var)\n",
    "    return r2_means, r2_vars"
   ]
  },
  {
   "cell_type": "code",
   "execution_count": 7,
   "id": "a9a41991",
   "metadata": {},
   "outputs": [],
   "source": [
    "def dotplot(adata, gene_list, model_name):\n",
    "    sc.set_figure_params(fontsize=14)\n",
    "    sc.pl.dotplot(adata, var_names=gene_list, groupby=\"condition\", save= model_name + '.pdf', show=True)\n",
    "    # os.rename(src=os.path.join(path_to_save, \"dotplot.pdf\"), dst=os.path.join(path_to_save, \"Fig2f_dotplot.pdf\"))"
   ]
  },
  {
   "cell_type": "code",
   "execution_count": 8,
   "id": "01be3541",
   "metadata": {},
   "outputs": [],
   "source": [
    "def grouped_barplot(df, cat, subcat, val, err, filename, put_label=True, legend=False, offset=0.375, data_name = 'pbmc'):\n",
    "    colors = ['#56B4E9', '#E69F00']\n",
    "    plt.close(\"all\")\n",
    "#     import matplotlib\n",
    "    matplotlib.rc('ytick', labelsize=12)\n",
    "    matplotlib.rc('xtick', labelsize=12)\n",
    "    u = df[cat].unique()\n",
    "    x_pos = np.arange(0, 2*len(u), 2)\n",
    "    subx = df[subcat].unique()\n",
    "    plt.figure(figsize=(8, 6))\n",
    "    ax = plt.gca()\n",
    "#     g = sns.catplot(x=cat, y=val, hue=subcat, data=df, kind='bar', palette=\"muted\", height=6, legend=False)\n",
    "#     g.despine(left=True)\n",
    "#     plt.yticks(np.arange(0, 1.2, 0.2))\n",
    "#     g.set_xticklabels(rotation=90)\n",
    "#     g.set_xlabels(\"\")\n",
    "    for i, gr in enumerate(subx):\n",
    "        dfg = df[df[subcat] == gr]\n",
    "#         ax.text(x_popreds + i/1.25, dfg[val].values, f\"{dfg[val].values}\")\n",
    "        b = ax.bar(x_pos + i/1.25, dfg[val].values, capsize=10, alpha=0.95, label=f\"{gr}\", yerr=dfg[err].values, color = colors[i])\n",
    "        a=np.random.normal(dfg[val].values, dfg[err].values, (10, len(u)))\n",
    "#         print(a.shape)\n",
    "#         dfc=pd.DataFrame({'x': x_pos + i/1.25, 'y': a[0]})\n",
    "#         ax.text(x_pos + i/1.25, dfg[val].values, f\"{dfg[val].values}\")\n",
    "        ax.plot(x_pos + i/1.25, a.T, '.', color='black', alpha=0.5)\n",
    "        if put_label:\n",
    "            autolabel(b)\n",
    "    plt.title(f\"{data_name}_grouped_boxplot\", fontsize = 20)\n",
    "    plt.ylabel(r\"$\\mathrm{R^2}$\", fontsize=15)\n",
    "    plt.xticks(x_pos+offset, u, rotation=90)\n",
    "    ax.set_facecolor('white')\n",
    "    ax.grid(False)\n",
    "    ax.spines[\"left\"].set_color(\"k\")\n",
    "    ax.spines[\"top\"].set_color(\"k\")\n",
    "    ax.spines[\"bottom\"].set_color(\"k\")\n",
    "    ax.spines[\"right\"].set_color(\"k\")\n",
    "    if legend:\n",
    "        plt.legend(bbox_to_anchor=(1.05,0.5), loc=\"center left\", borderaxespad=0, prop={'size': 18})\n",
    "    plt.tight_layout()\n",
    "    plt.savefig(os.path.join('figures','grouped_boxplot', filename), transparent=True, dpi=300)\n",
    "    print(\"saved at:\" + os.path.join('figures','grouped_boxplot', filename))\n",
    "    plt.show()"
   ]
  },
  {
   "cell_type": "code",
   "execution_count": 9,
   "id": "c1826208",
   "metadata": {},
   "outputs": [],
   "source": [
    "def draw_csv(cell_types, data_name, keys):\n",
    "    # train = sc.read('../data/train_' + model_name + '.h5ad')\n",
    "    stim_key, ctrl_key, pred_key, cell_type_key = keys\n",
    "    now = []\n",
    "    for name in cell_types:\n",
    "        adata = sc.read(os.path.join(data_name, 'model_' + name, \"result.h5ad\"))\n",
    "        stim = adata[adata.obs[\"condition\"] == stim_key]\n",
    "        stim.obs['condition'] = f\"{name}_real\"\n",
    "\n",
    "        # print(stim.obs['condition'])\n",
    "        \n",
    "        ctrl = adata[adata.obs[\"condition\"] == ctrl_key]\n",
    "        ctrl.obs['condition'] = f\"{name}_ctrl\"\n",
    "        \n",
    "        # print(ctrl.obs['condition'])\n",
    "\n",
    "        pred = adata[adata.obs[\"condition\"] == pred_key]\n",
    "        pred.obs['condition'] = f\"{name}_pred\"\n",
    "\n",
    "        # print(pred.obs['condition'])\n",
    "        \n",
    "        new_data = anndata.concat([stim, ctrl, pred])\n",
    "        now.append(new_data)\n",
    "\n",
    "    now = anndata.concat(now)\n",
    "\n",
    "    # now.var_names = train.var_names\n",
    "\n",
    "    print(\"finish pre data\")\n",
    "\n",
    "    r2_top100_means, r2_top100_vars = calc_R2_mean_var(now, cell_type_key, cell_types=cell_types, n_genes=100)\n",
    "\n",
    "    print(\"finish top 100\")\n",
    "\n",
    "    r2_all_means, r2_all_vars = calc_R2_mean_var(now, cell_type_key, cell_types=cell_types, n_genes=now.shape[1])\n",
    "\n",
    "    print(\"finish all genes\")\n",
    "\n",
    "    all_means = np.concatenate((r2_top100_means, r2_all_means), axis=0)\n",
    "    all_vars = np.concatenate((r2_top100_vars, r2_all_vars), axis=0)\n",
    "    all_types = [\"top 100 DEGs\"] * len(r2_top100_means) + [\"all genes\"] * len(r2_top100_means)\n",
    "    cell_types_x = 2 * cell_types\n",
    "    print(\"draw_df:\")\n",
    "    df = pd.DataFrame({\"R^2 Means\": all_means, \"R^2 Stddevs\": all_vars, \"Type\": all_types, \"Cell Types\": cell_types_x})\n",
    "\n",
    "    df.to_csv(os.path.join('figures/csvs', data_name + '.csv'))\n",
    "    print(\"saved at: \", os.path.join('figures/csvs', data_name + '.csv'))\n",
    "\n",
    "    all_means = np.concatenate((r2_top100_means, r2_all_means), axis=0)\n",
    "    all_vars = np.concatenate((r2_top100_vars, r2_all_vars), axis=0)\n",
    "    all_types = [\"top 100 DEGs\"] * len(cell_types) + [\"all genes\"] * len(cell_types)\n",
    "    cell_types_x = 2 * cell_types\n",
    "    df = pd.DataFrame({\"R^2 Means\": all_means, \"R^2 Stddevs\": all_vars, \"Type\": all_types, \"Cell Types\": cell_types_x})\n",
    "    print(df[df[\"Type\"] == \"top 100 DEGs\"])\n",
    "    print(df[df[\"Type\"] == \"all genes\"])\n",
    "    sns.set()\n",
    "    grouped_barplot(df, \"Cell Types\", \"Type\", \"R^2 Means\", \"R^2 Stddevs\", legend=True, filename=data_name + \"_celltypes_barplots.pdf\", data_name = data_name)\n",
    "#     gene_list = [\"CD3D\", \"CCL5\", \"GNLY\", \"CD79A\", \"FCGR3A\", \"S100A9\", \"HLA-DQA1\", \"ISG15\", \"IFI6\", \"IFIT1\", \"CXCL10\", \"CXCL11\", \"APOBEC3A\", \"DEFB1\", \"CCL8\", \"TARBP1\"]\n",
    "#     if model_name == 'pbmc':\n",
    "#         dotplot(now, gene_list, model_name)"
   ]
  },
  {
   "cell_type": "code",
   "execution_count": 10,
   "id": "3096c016",
   "metadata": {
    "scrolled": false
   },
   "outputs": [
    {
     "name": "stderr",
     "output_type": "stream",
     "text": [
      "/var/folders/l4/t6jwt91d1_z5f9klb8v3wfdr0000gn/T/ipykernel_14987/2043791007.py:8: ImplicitModificationWarning: Trying to modify attribute `.obs` of view, initializing view as actual.\n",
      "  stim.obs['condition'] = f\"{name}_real\"\n",
      "/var/folders/l4/t6jwt91d1_z5f9klb8v3wfdr0000gn/T/ipykernel_14987/2043791007.py:13: ImplicitModificationWarning: Trying to modify attribute `.obs` of view, initializing view as actual.\n",
      "  ctrl.obs['condition'] = f\"{name}_ctrl\"\n",
      "/var/folders/l4/t6jwt91d1_z5f9klb8v3wfdr0000gn/T/ipykernel_14987/2043791007.py:18: ImplicitModificationWarning: Trying to modify attribute `.obs` of view, initializing view as actual.\n",
      "  pred.obs['condition'] = f\"{name}_pred\"\n",
      "/var/folders/l4/t6jwt91d1_z5f9klb8v3wfdr0000gn/T/ipykernel_14987/2043791007.py:8: ImplicitModificationWarning: Trying to modify attribute `.obs` of view, initializing view as actual.\n",
      "  stim.obs['condition'] = f\"{name}_real\"\n",
      "/var/folders/l4/t6jwt91d1_z5f9klb8v3wfdr0000gn/T/ipykernel_14987/2043791007.py:13: ImplicitModificationWarning: Trying to modify attribute `.obs` of view, initializing view as actual.\n",
      "  ctrl.obs['condition'] = f\"{name}_ctrl\"\n",
      "/var/folders/l4/t6jwt91d1_z5f9klb8v3wfdr0000gn/T/ipykernel_14987/2043791007.py:18: ImplicitModificationWarning: Trying to modify attribute `.obs` of view, initializing view as actual.\n",
      "  pred.obs['condition'] = f\"{name}_pred\"\n",
      "/var/folders/l4/t6jwt91d1_z5f9klb8v3wfdr0000gn/T/ipykernel_14987/2043791007.py:8: ImplicitModificationWarning: Trying to modify attribute `.obs` of view, initializing view as actual.\n",
      "  stim.obs['condition'] = f\"{name}_real\"\n",
      "/var/folders/l4/t6jwt91d1_z5f9klb8v3wfdr0000gn/T/ipykernel_14987/2043791007.py:13: ImplicitModificationWarning: Trying to modify attribute `.obs` of view, initializing view as actual.\n",
      "  ctrl.obs['condition'] = f\"{name}_ctrl\"\n",
      "/var/folders/l4/t6jwt91d1_z5f9klb8v3wfdr0000gn/T/ipykernel_14987/2043791007.py:18: ImplicitModificationWarning: Trying to modify attribute `.obs` of view, initializing view as actual.\n",
      "  pred.obs['condition'] = f\"{name}_pred\"\n",
      "/var/folders/l4/t6jwt91d1_z5f9klb8v3wfdr0000gn/T/ipykernel_14987/2043791007.py:8: ImplicitModificationWarning: Trying to modify attribute `.obs` of view, initializing view as actual.\n",
      "  stim.obs['condition'] = f\"{name}_real\"\n",
      "/var/folders/l4/t6jwt91d1_z5f9klb8v3wfdr0000gn/T/ipykernel_14987/2043791007.py:13: ImplicitModificationWarning: Trying to modify attribute `.obs` of view, initializing view as actual.\n",
      "  ctrl.obs['condition'] = f\"{name}_ctrl\"\n",
      "/var/folders/l4/t6jwt91d1_z5f9klb8v3wfdr0000gn/T/ipykernel_14987/2043791007.py:18: ImplicitModificationWarning: Trying to modify attribute `.obs` of view, initializing view as actual.\n",
      "  pred.obs['condition'] = f\"{name}_pred\"\n",
      "/var/folders/l4/t6jwt91d1_z5f9klb8v3wfdr0000gn/T/ipykernel_14987/2043791007.py:8: ImplicitModificationWarning: Trying to modify attribute `.obs` of view, initializing view as actual.\n",
      "  stim.obs['condition'] = f\"{name}_real\"\n",
      "/var/folders/l4/t6jwt91d1_z5f9klb8v3wfdr0000gn/T/ipykernel_14987/2043791007.py:13: ImplicitModificationWarning: Trying to modify attribute `.obs` of view, initializing view as actual.\n",
      "  ctrl.obs['condition'] = f\"{name}_ctrl\"\n",
      "/var/folders/l4/t6jwt91d1_z5f9klb8v3wfdr0000gn/T/ipykernel_14987/2043791007.py:18: ImplicitModificationWarning: Trying to modify attribute `.obs` of view, initializing view as actual.\n",
      "  pred.obs['condition'] = f\"{name}_pred\"\n",
      "/var/folders/l4/t6jwt91d1_z5f9klb8v3wfdr0000gn/T/ipykernel_14987/2043791007.py:8: ImplicitModificationWarning: Trying to modify attribute `.obs` of view, initializing view as actual.\n",
      "  stim.obs['condition'] = f\"{name}_real\"\n",
      "/var/folders/l4/t6jwt91d1_z5f9klb8v3wfdr0000gn/T/ipykernel_14987/2043791007.py:13: ImplicitModificationWarning: Trying to modify attribute `.obs` of view, initializing view as actual.\n",
      "  ctrl.obs['condition'] = f\"{name}_ctrl\"\n",
      "/var/folders/l4/t6jwt91d1_z5f9klb8v3wfdr0000gn/T/ipykernel_14987/2043791007.py:18: ImplicitModificationWarning: Trying to modify attribute `.obs` of view, initializing view as actual.\n",
      "  pred.obs['condition'] = f\"{name}_pred\"\n",
      "/var/folders/l4/t6jwt91d1_z5f9klb8v3wfdr0000gn/T/ipykernel_14987/2043791007.py:8: ImplicitModificationWarning: Trying to modify attribute `.obs` of view, initializing view as actual.\n",
      "  stim.obs['condition'] = f\"{name}_real\"\n",
      "/var/folders/l4/t6jwt91d1_z5f9klb8v3wfdr0000gn/T/ipykernel_14987/2043791007.py:13: ImplicitModificationWarning: Trying to modify attribute `.obs` of view, initializing view as actual.\n",
      "  ctrl.obs['condition'] = f\"{name}_ctrl\"\n",
      "/var/folders/l4/t6jwt91d1_z5f9klb8v3wfdr0000gn/T/ipykernel_14987/2043791007.py:18: ImplicitModificationWarning: Trying to modify attribute `.obs` of view, initializing view as actual.\n",
      "  pred.obs['condition'] = f\"{name}_pred\"\n",
      "/Users/tongtongtot/opt/anaconda3/lib/python3.9/site-packages/anndata/_core/anndata.py:1830: UserWarning: Observation names are not unique. To make them unique, call `.obs_names_make_unique`.\n",
      "  utils.warn_names_duplicates(\"obs\")\n",
      "/Users/tongtongtot/opt/anaconda3/lib/python3.9/site-packages/anndata/_core/anndata.py:1222: ImplicitModificationWarning: Trying to modify attribute `.obs` of view, initializing view as actual.\n",
      "  df[key] = c\n"
     ]
    },
    {
     "name": "stdout",
     "output_type": "stream",
     "text": [
      "finish pre data\n",
      "['B_real', 'B_ctrl', 'B_pred']\n",
      "['CD4T_real', 'CD4T_ctrl', 'CD4T_pred']\n"
     ]
    },
    {
     "name": "stderr",
     "output_type": "stream",
     "text": [
      "/Users/tongtongtot/opt/anaconda3/lib/python3.9/site-packages/anndata/_core/anndata.py:1222: ImplicitModificationWarning: Trying to modify attribute `.obs` of view, initializing view as actual.\n",
      "  df[key] = c\n"
     ]
    },
    {
     "name": "stdout",
     "output_type": "stream",
     "text": [
      "['CD8T_real', 'CD8T_ctrl', 'CD8T_pred']\n",
      "['CD14+Mono_real', 'CD14+Mono_ctrl', 'CD14+Mono_pred']\n"
     ]
    },
    {
     "name": "stderr",
     "output_type": "stream",
     "text": [
      "/Users/tongtongtot/opt/anaconda3/lib/python3.9/site-packages/anndata/_core/anndata.py:1222: ImplicitModificationWarning: Trying to modify attribute `.obs` of view, initializing view as actual.\n",
      "  df[key] = c\n",
      "/Users/tongtongtot/opt/anaconda3/lib/python3.9/site-packages/anndata/_core/anndata.py:1222: ImplicitModificationWarning: Trying to modify attribute `.obs` of view, initializing view as actual.\n",
      "  df[key] = c\n"
     ]
    },
    {
     "name": "stdout",
     "output_type": "stream",
     "text": [
      "['Dendritic_real', 'Dendritic_ctrl', 'Dendritic_pred']\n",
      "['FCGR3A+Mono_real', 'FCGR3A+Mono_ctrl', 'FCGR3A+Mono_pred']\n"
     ]
    },
    {
     "name": "stderr",
     "output_type": "stream",
     "text": [
      "/Users/tongtongtot/opt/anaconda3/lib/python3.9/site-packages/anndata/_core/anndata.py:1222: ImplicitModificationWarning: Trying to modify attribute `.obs` of view, initializing view as actual.\n",
      "  df[key] = c\n",
      "/Users/tongtongtot/opt/anaconda3/lib/python3.9/site-packages/anndata/_core/anndata.py:1222: ImplicitModificationWarning: Trying to modify attribute `.obs` of view, initializing view as actual.\n",
      "  df[key] = c\n"
     ]
    },
    {
     "name": "stdout",
     "output_type": "stream",
     "text": [
      "['NK_real', 'NK_ctrl', 'NK_pred']\n",
      "finish top 100\n"
     ]
    },
    {
     "name": "stderr",
     "output_type": "stream",
     "text": [
      "/Users/tongtongtot/opt/anaconda3/lib/python3.9/site-packages/anndata/_core/anndata.py:1222: ImplicitModificationWarning: Trying to modify attribute `.obs` of view, initializing view as actual.\n",
      "  df[key] = c\n"
     ]
    },
    {
     "name": "stdout",
     "output_type": "stream",
     "text": [
      "finish all genes\n",
      "draw_df:\n",
      "saved at:  figures/csvs/pbmc.csv\n",
      "   R^2 Means  R^2 Stddevs          Type   Cell Types\n",
      "0   0.978824          0.0  top 100 DEGs            B\n",
      "1   0.997812          0.0  top 100 DEGs         CD4T\n",
      "2   0.974178          0.0  top 100 DEGs         CD8T\n",
      "3   0.992725          0.0  top 100 DEGs    CD14+Mono\n",
      "4   0.986032          0.0  top 100 DEGs    Dendritic\n",
      "5   0.996542          0.0  top 100 DEGs  FCGR3A+Mono\n",
      "6   0.967495          0.0  top 100 DEGs           NK\n",
      "    R^2 Means  R^2 Stddevs       Type   Cell Types\n",
      "7    0.971850          0.0  all genes            B\n",
      "8    0.994787          0.0  all genes         CD4T\n",
      "9    0.966102          0.0  all genes         CD8T\n",
      "10   0.991389          0.0  all genes    CD14+Mono\n",
      "11   0.983985          0.0  all genes    Dendritic\n",
      "12   0.995050          0.0  all genes  FCGR3A+Mono\n",
      "13   0.946330          0.0  all genes           NK\n",
      "saved at:figures/grouped_boxplot/pbmc_celltypes_barplots.pdf\n"
     ]
    },
    {
     "data": {
      "image/png": "[encoded data removed]",
      "text/plain": [
       "<Figure size 576x432 with 1 Axes>"
      ]
     },
     "metadata": {},
     "output_type": "display_data"
    },
    {
     "name": "stdout",
     "output_type": "stream",
     "text": [
      "finish pbmc\n"
     ]
    },
    {
     "name": "stderr",
     "output_type": "stream",
     "text": [
      "/var/folders/l4/t6jwt91d1_z5f9klb8v3wfdr0000gn/T/ipykernel_14987/2043791007.py:8: ImplicitModificationWarning: Trying to modify attribute `.obs` of view, initializing view as actual.\n",
      "  stim.obs['condition'] = f\"{name}_real\"\n",
      "/var/folders/l4/t6jwt91d1_z5f9klb8v3wfdr0000gn/T/ipykernel_14987/2043791007.py:13: ImplicitModificationWarning: Trying to modify attribute `.obs` of view, initializing view as actual.\n",
      "  ctrl.obs['condition'] = f\"{name}_ctrl\"\n",
      "/var/folders/l4/t6jwt91d1_z5f9klb8v3wfdr0000gn/T/ipykernel_14987/2043791007.py:18: ImplicitModificationWarning: Trying to modify attribute `.obs` of view, initializing view as actual.\n",
      "  pred.obs['condition'] = f\"{name}_pred\"\n",
      "/var/folders/l4/t6jwt91d1_z5f9klb8v3wfdr0000gn/T/ipykernel_14987/2043791007.py:8: ImplicitModificationWarning: Trying to modify attribute `.obs` of view, initializing view as actual.\n",
      "  stim.obs['condition'] = f\"{name}_real\"\n",
      "/var/folders/l4/t6jwt91d1_z5f9klb8v3wfdr0000gn/T/ipykernel_14987/2043791007.py:13: ImplicitModificationWarning: Trying to modify attribute `.obs` of view, initializing view as actual.\n",
      "  ctrl.obs['condition'] = f\"{name}_ctrl\"\n",
      "/var/folders/l4/t6jwt91d1_z5f9klb8v3wfdr0000gn/T/ipykernel_14987/2043791007.py:18: ImplicitModificationWarning: Trying to modify attribute `.obs` of view, initializing view as actual.\n",
      "  pred.obs['condition'] = f\"{name}_pred\"\n",
      "/var/folders/l4/t6jwt91d1_z5f9klb8v3wfdr0000gn/T/ipykernel_14987/2043791007.py:8: ImplicitModificationWarning: Trying to modify attribute `.obs` of view, initializing view as actual.\n",
      "  stim.obs['condition'] = f\"{name}_real\"\n",
      "/var/folders/l4/t6jwt91d1_z5f9klb8v3wfdr0000gn/T/ipykernel_14987/2043791007.py:13: ImplicitModificationWarning: Trying to modify attribute `.obs` of view, initializing view as actual.\n",
      "  ctrl.obs['condition'] = f\"{name}_ctrl\"\n",
      "/var/folders/l4/t6jwt91d1_z5f9klb8v3wfdr0000gn/T/ipykernel_14987/2043791007.py:18: ImplicitModificationWarning: Trying to modify attribute `.obs` of view, initializing view as actual.\n",
      "  pred.obs['condition'] = f\"{name}_pred\"\n",
      "/var/folders/l4/t6jwt91d1_z5f9klb8v3wfdr0000gn/T/ipykernel_14987/2043791007.py:8: ImplicitModificationWarning: Trying to modify attribute `.obs` of view, initializing view as actual.\n",
      "  stim.obs['condition'] = f\"{name}_real\"\n",
      "/var/folders/l4/t6jwt91d1_z5f9klb8v3wfdr0000gn/T/ipykernel_14987/2043791007.py:13: ImplicitModificationWarning: Trying to modify attribute `.obs` of view, initializing view as actual.\n",
      "  ctrl.obs['condition'] = f\"{name}_ctrl\"\n",
      "/var/folders/l4/t6jwt91d1_z5f9klb8v3wfdr0000gn/T/ipykernel_14987/2043791007.py:18: ImplicitModificationWarning: Trying to modify attribute `.obs` of view, initializing view as actual.\n",
      "  pred.obs['condition'] = f\"{name}_pred\"\n",
      "/var/folders/l4/t6jwt91d1_z5f9klb8v3wfdr0000gn/T/ipykernel_14987/2043791007.py:8: ImplicitModificationWarning: Trying to modify attribute `.obs` of view, initializing view as actual.\n",
      "  stim.obs['condition'] = f\"{name}_real\"\n",
      "/var/folders/l4/t6jwt91d1_z5f9klb8v3wfdr0000gn/T/ipykernel_14987/2043791007.py:13: ImplicitModificationWarning: Trying to modify attribute `.obs` of view, initializing view as actual.\n",
      "  ctrl.obs['condition'] = f\"{name}_ctrl\"\n",
      "/var/folders/l4/t6jwt91d1_z5f9klb8v3wfdr0000gn/T/ipykernel_14987/2043791007.py:18: ImplicitModificationWarning: Trying to modify attribute `.obs` of view, initializing view as actual.\n",
      "  pred.obs['condition'] = f\"{name}_pred\"\n",
      "/var/folders/l4/t6jwt91d1_z5f9klb8v3wfdr0000gn/T/ipykernel_14987/2043791007.py:8: ImplicitModificationWarning: Trying to modify attribute `.obs` of view, initializing view as actual.\n",
      "  stim.obs['condition'] = f\"{name}_real\"\n",
      "/var/folders/l4/t6jwt91d1_z5f9klb8v3wfdr0000gn/T/ipykernel_14987/2043791007.py:13: ImplicitModificationWarning: Trying to modify attribute `.obs` of view, initializing view as actual.\n",
      "  ctrl.obs['condition'] = f\"{name}_ctrl\"\n",
      "/var/folders/l4/t6jwt91d1_z5f9klb8v3wfdr0000gn/T/ipykernel_14987/2043791007.py:18: ImplicitModificationWarning: Trying to modify attribute `.obs` of view, initializing view as actual.\n",
      "  pred.obs['condition'] = f\"{name}_pred\"\n",
      "/var/folders/l4/t6jwt91d1_z5f9klb8v3wfdr0000gn/T/ipykernel_14987/2043791007.py:8: ImplicitModificationWarning: Trying to modify attribute `.obs` of view, initializing view as actual.\n",
      "  stim.obs['condition'] = f\"{name}_real\"\n",
      "/var/folders/l4/t6jwt91d1_z5f9klb8v3wfdr0000gn/T/ipykernel_14987/2043791007.py:13: ImplicitModificationWarning: Trying to modify attribute `.obs` of view, initializing view as actual.\n",
      "  ctrl.obs['condition'] = f\"{name}_ctrl\"\n",
      "/var/folders/l4/t6jwt91d1_z5f9klb8v3wfdr0000gn/T/ipykernel_14987/2043791007.py:18: ImplicitModificationWarning: Trying to modify attribute `.obs` of view, initializing view as actual.\n",
      "  pred.obs['condition'] = f\"{name}_pred\"\n",
      "/var/folders/l4/t6jwt91d1_z5f9klb8v3wfdr0000gn/T/ipykernel_14987/2043791007.py:8: ImplicitModificationWarning: Trying to modify attribute `.obs` of view, initializing view as actual.\n",
      "  stim.obs['condition'] = f\"{name}_real\"\n",
      "/var/folders/l4/t6jwt91d1_z5f9klb8v3wfdr0000gn/T/ipykernel_14987/2043791007.py:13: ImplicitModificationWarning: Trying to modify attribute `.obs` of view, initializing view as actual.\n",
      "  ctrl.obs['condition'] = f\"{name}_ctrl\"\n",
      "/var/folders/l4/t6jwt91d1_z5f9klb8v3wfdr0000gn/T/ipykernel_14987/2043791007.py:18: ImplicitModificationWarning: Trying to modify attribute `.obs` of view, initializing view as actual.\n",
      "  pred.obs['condition'] = f\"{name}_pred\"\n",
      "/Users/tongtongtot/opt/anaconda3/lib/python3.9/site-packages/anndata/_core/anndata.py:1830: UserWarning: Observation names are not unique. To make them unique, call `.obs_names_make_unique`.\n",
      "  utils.warn_names_duplicates(\"obs\")\n",
      "/Users/tongtongtot/opt/anaconda3/lib/python3.9/site-packages/anndata/_core/anndata.py:1222: ImplicitModificationWarning: Trying to modify attribute `.obs` of view, initializing view as actual.\n",
      "  df[key] = c\n"
     ]
    },
    {
     "name": "stdout",
     "output_type": "stream",
     "text": [
      "finish pre data\n",
      "['Endocrine_real', 'Endocrine_ctrl', 'Endocrine_pred']\n",
      "['Enterocyte_real', 'Enterocyte_ctrl', 'Enterocyte_pred']\n"
     ]
    },
    {
     "name": "stderr",
     "output_type": "stream",
     "text": [
      "/Users/tongtongtot/opt/anaconda3/lib/python3.9/site-packages/anndata/_core/anndata.py:1222: ImplicitModificationWarning: Trying to modify attribute `.obs` of view, initializing view as actual.\n",
      "  df[key] = c\n",
      "/Users/tongtongtot/opt/anaconda3/lib/python3.9/site-packages/anndata/_core/anndata.py:1222: ImplicitModificationWarning: Trying to modify attribute `.obs` of view, initializing view as actual.\n",
      "  df[key] = c\n"
     ]
    },
    {
     "name": "stdout",
     "output_type": "stream",
     "text": [
      "['Enterocyte.Progenitor_real', 'Enterocyte.Progenitor_ctrl', 'Enterocyte.Progenitor_pred']\n",
      "['Goblet_real', 'Goblet_ctrl', 'Goblet_pred']\n",
      "['Stem_real', 'Stem_ctrl', 'Stem_pred']\n"
     ]
    },
    {
     "name": "stderr",
     "output_type": "stream",
     "text": [
      "/Users/tongtongtot/opt/anaconda3/lib/python3.9/site-packages/anndata/_core/anndata.py:1222: ImplicitModificationWarning: Trying to modify attribute `.obs` of view, initializing view as actual.\n",
      "  df[key] = c\n",
      "/Users/tongtongtot/opt/anaconda3/lib/python3.9/site-packages/anndata/_core/anndata.py:1222: ImplicitModificationWarning: Trying to modify attribute `.obs` of view, initializing view as actual.\n",
      "  df[key] = c\n"
     ]
    },
    {
     "name": "stdout",
     "output_type": "stream",
     "text": [
      "['TA_real', 'TA_ctrl', 'TA_pred']\n",
      "['TA.Early_real', 'TA.Early_ctrl', 'TA.Early_pred']\n"
     ]
    },
    {
     "name": "stderr",
     "output_type": "stream",
     "text": [
      "/Users/tongtongtot/opt/anaconda3/lib/python3.9/site-packages/anndata/_core/anndata.py:1222: ImplicitModificationWarning: Trying to modify attribute `.obs` of view, initializing view as actual.\n",
      "  df[key] = c\n",
      "/Users/tongtongtot/opt/anaconda3/lib/python3.9/site-packages/anndata/_core/anndata.py:1222: ImplicitModificationWarning: Trying to modify attribute `.obs` of view, initializing view as actual.\n",
      "  df[key] = c\n"
     ]
    },
    {
     "name": "stdout",
     "output_type": "stream",
     "text": [
      "['Tuft_real', 'Tuft_ctrl', 'Tuft_pred']\n",
      "finish top 100\n",
      "finish all genes\n",
      "draw_df:\n",
      "saved at:  figures/csvs/hpoly.csv\n",
      "   R^2 Means  R^2 Stddevs          Type             Cell Types\n",
      "0   0.858699          0.0  top 100 DEGs              Endocrine\n",
      "1   0.950318          0.0  top 100 DEGs             Enterocyte\n",
      "2   0.976195          0.0  top 100 DEGs  Enterocyte.Progenitor\n",
      "3   0.975156          0.0  top 100 DEGs                 Goblet\n",
      "4   0.986459          0.0  top 100 DEGs                   Stem\n",
      "5   0.981389          0.0  top 100 DEGs                     TA\n",
      "6   0.962790          0.0  top 100 DEGs               TA.Early\n",
      "7   0.957905          0.0  top 100 DEGs                   Tuft\n",
      "    R^2 Means  R^2 Stddevs       Type             Cell Types\n",
      "8    0.865065          0.0  all genes              Endocrine\n",
      "9    0.953661          0.0  all genes             Enterocyte\n",
      "10   0.979755          0.0  all genes  Enterocyte.Progenitor\n",
      "11   0.977795          0.0  all genes                 Goblet\n",
      "12   0.986471          0.0  all genes                   Stem\n",
      "13   0.975507          0.0  all genes                     TA\n",
      "14   0.980030          0.0  all genes               TA.Early\n",
      "15   0.938762          0.0  all genes                   Tuft\n"
     ]
    },
    {
     "name": "stderr",
     "output_type": "stream",
     "text": [
      "/Users/tongtongtot/opt/anaconda3/lib/python3.9/site-packages/anndata/_core/anndata.py:1222: ImplicitModificationWarning: Trying to modify attribute `.obs` of view, initializing view as actual.\n",
      "  df[key] = c\n"
     ]
    },
    {
     "name": "stdout",
     "output_type": "stream",
     "text": [
      "saved at:figures/grouped_boxplot/hpoly_celltypes_barplots.pdf\n"
     ]
    },
    {
     "data": {
      "image/png": "[encoded data removed]",
      "text/plain": [
       "<Figure size 576x432 with 1 Axes>"
      ]
     },
     "metadata": {},
     "output_type": "display_data"
    },
    {
     "name": "stdout",
     "output_type": "stream",
     "text": [
      "finish hpoly\n"
     ]
    },
    {
     "name": "stderr",
     "output_type": "stream",
     "text": [
      "/var/folders/l4/t6jwt91d1_z5f9klb8v3wfdr0000gn/T/ipykernel_14987/2043791007.py:8: ImplicitModificationWarning: Trying to modify attribute `.obs` of view, initializing view as actual.\n",
      "  stim.obs['condition'] = f\"{name}_real\"\n",
      "/var/folders/l4/t6jwt91d1_z5f9klb8v3wfdr0000gn/T/ipykernel_14987/2043791007.py:13: ImplicitModificationWarning: Trying to modify attribute `.obs` of view, initializing view as actual.\n",
      "  ctrl.obs['condition'] = f\"{name}_ctrl\"\n",
      "/var/folders/l4/t6jwt91d1_z5f9klb8v3wfdr0000gn/T/ipykernel_14987/2043791007.py:18: ImplicitModificationWarning: Trying to modify attribute `.obs` of view, initializing view as actual.\n",
      "  pred.obs['condition'] = f\"{name}_pred\"\n",
      "/var/folders/l4/t6jwt91d1_z5f9klb8v3wfdr0000gn/T/ipykernel_14987/2043791007.py:8: ImplicitModificationWarning: Trying to modify attribute `.obs` of view, initializing view as actual.\n",
      "  stim.obs['condition'] = f\"{name}_real\"\n",
      "/var/folders/l4/t6jwt91d1_z5f9klb8v3wfdr0000gn/T/ipykernel_14987/2043791007.py:13: ImplicitModificationWarning: Trying to modify attribute `.obs` of view, initializing view as actual.\n",
      "  ctrl.obs['condition'] = f\"{name}_ctrl\"\n",
      "/var/folders/l4/t6jwt91d1_z5f9klb8v3wfdr0000gn/T/ipykernel_14987/2043791007.py:18: ImplicitModificationWarning: Trying to modify attribute `.obs` of view, initializing view as actual.\n",
      "  pred.obs['condition'] = f\"{name}_pred\"\n",
      "/var/folders/l4/t6jwt91d1_z5f9klb8v3wfdr0000gn/T/ipykernel_14987/2043791007.py:8: ImplicitModificationWarning: Trying to modify attribute `.obs` of view, initializing view as actual.\n",
      "  stim.obs['condition'] = f\"{name}_real\"\n",
      "/var/folders/l4/t6jwt91d1_z5f9klb8v3wfdr0000gn/T/ipykernel_14987/2043791007.py:13: ImplicitModificationWarning: Trying to modify attribute `.obs` of view, initializing view as actual.\n",
      "  ctrl.obs['condition'] = f\"{name}_ctrl\"\n",
      "/var/folders/l4/t6jwt91d1_z5f9klb8v3wfdr0000gn/T/ipykernel_14987/2043791007.py:18: ImplicitModificationWarning: Trying to modify attribute `.obs` of view, initializing view as actual.\n",
      "  pred.obs['condition'] = f\"{name}_pred\"\n",
      "/var/folders/l4/t6jwt91d1_z5f9klb8v3wfdr0000gn/T/ipykernel_14987/2043791007.py:8: ImplicitModificationWarning: Trying to modify attribute `.obs` of view, initializing view as actual.\n",
      "  stim.obs['condition'] = f\"{name}_real\"\n",
      "/var/folders/l4/t6jwt91d1_z5f9klb8v3wfdr0000gn/T/ipykernel_14987/2043791007.py:13: ImplicitModificationWarning: Trying to modify attribute `.obs` of view, initializing view as actual.\n",
      "  ctrl.obs['condition'] = f\"{name}_ctrl\"\n",
      "/var/folders/l4/t6jwt91d1_z5f9klb8v3wfdr0000gn/T/ipykernel_14987/2043791007.py:18: ImplicitModificationWarning: Trying to modify attribute `.obs` of view, initializing view as actual.\n",
      "  pred.obs['condition'] = f\"{name}_pred\"\n",
      "/var/folders/l4/t6jwt91d1_z5f9klb8v3wfdr0000gn/T/ipykernel_14987/2043791007.py:8: ImplicitModificationWarning: Trying to modify attribute `.obs` of view, initializing view as actual.\n",
      "  stim.obs['condition'] = f\"{name}_real\"\n",
      "/var/folders/l4/t6jwt91d1_z5f9klb8v3wfdr0000gn/T/ipykernel_14987/2043791007.py:13: ImplicitModificationWarning: Trying to modify attribute `.obs` of view, initializing view as actual.\n",
      "  ctrl.obs['condition'] = f\"{name}_ctrl\"\n",
      "/var/folders/l4/t6jwt91d1_z5f9klb8v3wfdr0000gn/T/ipykernel_14987/2043791007.py:18: ImplicitModificationWarning: Trying to modify attribute `.obs` of view, initializing view as actual.\n",
      "  pred.obs['condition'] = f\"{name}_pred\"\n",
      "/var/folders/l4/t6jwt91d1_z5f9klb8v3wfdr0000gn/T/ipykernel_14987/2043791007.py:8: ImplicitModificationWarning: Trying to modify attribute `.obs` of view, initializing view as actual.\n",
      "  stim.obs['condition'] = f\"{name}_real\"\n",
      "/var/folders/l4/t6jwt91d1_z5f9klb8v3wfdr0000gn/T/ipykernel_14987/2043791007.py:13: ImplicitModificationWarning: Trying to modify attribute `.obs` of view, initializing view as actual.\n",
      "  ctrl.obs['condition'] = f\"{name}_ctrl\"\n",
      "/var/folders/l4/t6jwt91d1_z5f9klb8v3wfdr0000gn/T/ipykernel_14987/2043791007.py:18: ImplicitModificationWarning: Trying to modify attribute `.obs` of view, initializing view as actual.\n",
      "  pred.obs['condition'] = f\"{name}_pred\"\n",
      "/var/folders/l4/t6jwt91d1_z5f9klb8v3wfdr0000gn/T/ipykernel_14987/2043791007.py:8: ImplicitModificationWarning: Trying to modify attribute `.obs` of view, initializing view as actual.\n",
      "  stim.obs['condition'] = f\"{name}_real\"\n",
      "/var/folders/l4/t6jwt91d1_z5f9klb8v3wfdr0000gn/T/ipykernel_14987/2043791007.py:13: ImplicitModificationWarning: Trying to modify attribute `.obs` of view, initializing view as actual.\n",
      "  ctrl.obs['condition'] = f\"{name}_ctrl\"\n",
      "/var/folders/l4/t6jwt91d1_z5f9klb8v3wfdr0000gn/T/ipykernel_14987/2043791007.py:18: ImplicitModificationWarning: Trying to modify attribute `.obs` of view, initializing view as actual.\n",
      "  pred.obs['condition'] = f\"{name}_pred\"\n",
      "/Users/tongtongtot/opt/anaconda3/lib/python3.9/site-packages/anndata/_core/anndata.py:1830: UserWarning: Observation names are not unique. To make them unique, call `.obs_names_make_unique`.\n",
      "  utils.warn_names_duplicates(\"obs\")\n",
      "/Users/tongtongtot/opt/anaconda3/lib/python3.9/site-packages/anndata/_core/anndata.py:1222: ImplicitModificationWarning: Trying to modify attribute `.obs` of view, initializing view as actual.\n",
      "  df[key] = c\n"
     ]
    },
    {
     "name": "stdout",
     "output_type": "stream",
     "text": [
      "finish pre data\n",
      "['B_real', 'B_ctrl', 'B_pred']\n",
      "['CD4T_real', 'CD4T_ctrl', 'CD4T_pred']\n"
     ]
    },
    {
     "name": "stderr",
     "output_type": "stream",
     "text": [
      "/Users/tongtongtot/opt/anaconda3/lib/python3.9/site-packages/anndata/_core/anndata.py:1222: ImplicitModificationWarning: Trying to modify attribute `.obs` of view, initializing view as actual.\n",
      "  df[key] = c\n"
     ]
    },
    {
     "name": "stdout",
     "output_type": "stream",
     "text": [
      "['CD8T_real', 'CD8T_ctrl', 'CD8T_pred']\n",
      "['CD14+Mono_real', 'CD14+Mono_ctrl', 'CD14+Mono_pred']\n"
     ]
    },
    {
     "name": "stderr",
     "output_type": "stream",
     "text": [
      "/Users/tongtongtot/opt/anaconda3/lib/python3.9/site-packages/anndata/_core/anndata.py:1222: ImplicitModificationWarning: Trying to modify attribute `.obs` of view, initializing view as actual.\n",
      "  df[key] = c\n",
      "/Users/tongtongtot/opt/anaconda3/lib/python3.9/site-packages/anndata/_core/anndata.py:1222: ImplicitModificationWarning: Trying to modify attribute `.obs` of view, initializing view as actual.\n",
      "  df[key] = c\n"
     ]
    },
    {
     "name": "stdout",
     "output_type": "stream",
     "text": [
      "['Dendritic_real', 'Dendritic_ctrl', 'Dendritic_pred']\n",
      "['FCGR3A+Mono_real', 'FCGR3A+Mono_ctrl', 'FCGR3A+Mono_pred']\n"
     ]
    },
    {
     "name": "stderr",
     "output_type": "stream",
     "text": [
      "/Users/tongtongtot/opt/anaconda3/lib/python3.9/site-packages/anndata/_core/anndata.py:1222: ImplicitModificationWarning: Trying to modify attribute `.obs` of view, initializing view as actual.\n",
      "  df[key] = c\n",
      "/Users/tongtongtot/opt/anaconda3/lib/python3.9/site-packages/anndata/_core/anndata.py:1222: ImplicitModificationWarning: Trying to modify attribute `.obs` of view, initializing view as actual.\n",
      "  df[key] = c\n"
     ]
    },
    {
     "name": "stdout",
     "output_type": "stream",
     "text": [
      "['NK_real', 'NK_ctrl', 'NK_pred']\n",
      "finish top 100\n"
     ]
    },
    {
     "name": "stderr",
     "output_type": "stream",
     "text": [
      "/Users/tongtongtot/opt/anaconda3/lib/python3.9/site-packages/anndata/_core/anndata.py:1222: ImplicitModificationWarning: Trying to modify attribute `.obs` of view, initializing view as actual.\n",
      "  df[key] = c\n"
     ]
    },
    {
     "name": "stdout",
     "output_type": "stream",
     "text": [
      "finish all genes\n",
      "draw_df:\n",
      "saved at:  figures/csvs/study.csv\n",
      "   R^2 Means  R^2 Stddevs          Type   Cell Types\n",
      "0   0.987960          0.0  top 100 DEGs            B\n",
      "1   0.988750          0.0  top 100 DEGs         CD4T\n",
      "2   0.937496          0.0  top 100 DEGs         CD8T\n",
      "3   0.994915          0.0  top 100 DEGs    CD14+Mono\n",
      "4   0.982509          0.0  top 100 DEGs    Dendritic\n",
      "5   0.986015          0.0  top 100 DEGs  FCGR3A+Mono\n",
      "6   0.977135          0.0  top 100 DEGs           NK\n",
      "    R^2 Means  R^2 Stddevs       Type   Cell Types\n",
      "7    0.982146          0.0  all genes            B\n",
      "8    0.990489          0.0  all genes         CD4T\n",
      "9    0.959960          0.0  all genes         CD8T\n",
      "10   0.990486          0.0  all genes    CD14+Mono\n",
      "11   0.982604          0.0  all genes    Dendritic\n",
      "12   0.987635          0.0  all genes  FCGR3A+Mono\n",
      "13   0.973917          0.0  all genes           NK\n",
      "saved at:figures/grouped_boxplot/study_celltypes_barplots.pdf\n"
     ]
    },
    {
     "data": {
      "image/png": "[encoded data removed]",
      "text/plain": [
       "<Figure size 576x432 with 1 Axes>"
      ]
     },
     "metadata": {},
     "output_type": "display_data"
    },
    {
     "name": "stdout",
     "output_type": "stream",
     "text": [
      "finish study\n"
     ]
    }
   ],
   "source": [
    "name_pbmc = ['B', 'CD4T', 'CD8T', 'CD14+Mono', 'Dendritic', 'FCGR3A+Mono', 'NK']\n",
    "name_hpoly = ['Endocrine', 'Enterocyte', 'Enterocyte.Progenitor', 'Goblet', 'Stem', 'TA', 'TA.Early', 'Tuft']\n",
    "name_study = ['B', 'CD4T', 'CD8T', 'CD14+Mono', 'Dendritic', 'FCGR3A+Mono', 'NK']\n",
    "key_pbmc = ['stimulated', 'control', 'pred', 'cell_type']\n",
    "key_hpoly = ['Hpoly.Day10', 'Control', 'pred', 'cell_label']\n",
    "key_study = ['stimulated', 'control', 'pred', 'cell_type']\n",
    "draw_csv(name_pbmc, \"pbmc\", key_pbmc)\n",
    "print(\"finish pbmc\")\n",
    "draw_csv(name_hpoly, 'hpoly', key_hpoly)\n",
    "print(\"finish hpoly\")\n",
    "draw_csv(name_study, 'study', key_study)\n",
    "print(\"finish study\")"
   ]
  },
  {
   "cell_type": "code",
   "execution_count": null,
   "id": "271b5c63",
   "metadata": {},
   "outputs": [],
   "source": []
  }
 ],
 "metadata": {
  "kernelspec": {
   "display_name": "Python 3 (ipykernel)",
   "language": "python",
   "name": "python3"
  },
  "language_info": {
   "codemirror_mode": {
    "name": "ipython",
    "version": 3
   },
   "file_extension": ".py",
   "mimetype": "text/x-python",
   "name": "python",
   "nbconvert_exporter": "python",
   "pygments_lexer": "ipython3",
   "version": "3.9.12"
  }
 },
 "nbformat": 4,
 "nbformat_minor": 5
}
